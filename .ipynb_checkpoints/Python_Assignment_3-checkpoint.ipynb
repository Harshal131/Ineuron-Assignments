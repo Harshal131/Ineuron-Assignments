{
 "cells": [
  {
   "cell_type": "markdown",
   "metadata": {},
   "source": [
    "## Python Assignment - 3"
   ]
  },
  {
   "cell_type": "markdown",
   "metadata": {},
   "source": [
    "#### 1.1 Write a Python Program to implement your own myreduce() function which works exactly like Python's built-in function reduce() "
   ]
  },
  {
   "cell_type": "code",
   "execution_count": 150,
   "metadata": {},
   "outputs": [],
   "source": [
    "import inspect\n",
    "import warnings\n",
    "warnings.filterwarnings('ignore')"
   ]
  },
  {
   "cell_type": "code",
   "execution_count": 159,
   "metadata": {},
   "outputs": [
    {
     "name": "stdout",
     "output_type": "stream",
     "text": [
      "36\n"
     ]
    }
   ],
   "source": [
    "def add(x,y):\n",
    "    return x+y\n",
    "def div(x,y):\n",
    "    return x/y\n",
    "def add_multiple(x,y,z):\n",
    "    return x+y+z\n",
    "def myreduce(*args):\n",
    "    function,inp_list=args[0],args[1]\n",
    "    sep_lists=[]\n",
    "    cnt=0\n",
    "    arg_counts = len(inspect.getargspec(function)[0])\n",
    "    for i in range(0,len(inp_list)):    \n",
    "        if (cnt==0):\n",
    "            sep_lists.append(inp_list[:arg_counts])\n",
    "            cnt=cnt+1\n",
    "        elif(cnt>0):\n",
    "                sep_lists.append(inp_list[i+1:i+arg_counts])\n",
    "    cnt=0\n",
    "    total=0\n",
    "    for i in range(0,len(sep_lists)-1):\n",
    "        if (cnt==0):\n",
    "            total=function(sep_lists[i][0],sep_lists[i][1]) \n",
    "            cnt+=1\n",
    "        else:\n",
    "            if (sep_lists[i][0]!=[]):\n",
    "                total = function(total,sep_lists[i][0])\n",
    "            else:\n",
    "                pass\n",
    "    print(total)\n",
    "myreduce(add,[1,2,3,4,5,6,7,8])    "
   ]
  }
 ],
 "metadata": {
  "kernelspec": {
   "display_name": "Python 3",
   "language": "python",
   "name": "python3"
  },
  "language_info": {
   "codemirror_mode": {
    "name": "ipython",
    "version": 3
   },
   "file_extension": ".py",
   "mimetype": "text/x-python",
   "name": "python",
   "nbconvert_exporter": "python",
   "pygments_lexer": "ipython3",
   "version": "3.7.6"
  }
 },
 "nbformat": 4,
 "nbformat_minor": 4
}
