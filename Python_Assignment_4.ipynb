{
 "cells": [
  {
   "cell_type": "markdown",
   "metadata": {},
   "source": [
    "## Assignment - 4"
   ]
  },
  {
   "cell_type": "markdown",
   "metadata": {},
   "source": [
    "##### 1.1 Write a Python Program(with class concepts) to find the area of the triangle using the below formula.\n",
    "##### area = (s*(s-a)*(s-b)*(s-c)) ** 0.5\n",
    "##### Function to take the length of the sides of triangle from user should be defined in the parent class and function to calculate the area should be defined in subclass."
   ]
  },
  {
   "cell_type": "code",
   "execution_count": 59,
   "metadata": {},
   "outputs": [
    {
     "name": "stdout",
     "output_type": "stream",
     "text": [
      "first side:2\n",
      "second side:3\n",
      "third side:4\n",
      "Area of Triangle is: 4.22\n"
     ]
    }
   ],
   "source": [
    "class Parent_Class:\n",
    "    def __init__(self,a,b,c):\n",
    "        self.a=a\n",
    "        self.b=b\n",
    "        self.c=c\n",
    "    @classmethod\n",
    "    def user_input(cls):\n",
    "        return cls(\n",
    "            float(input(\"first side:\")),\n",
    "            float(input(\"second side:\")),\n",
    "            float(input(\"third side:\")),\n",
    "        )\n",
    "class Child_class:\n",
    "    def Area_of_triangle(): \n",
    "        x = Parent_Class.user_input()\n",
    "        a,b,c=x.a,x.b,x.c\n",
    "        s = ((a+b+c)/(2)) \n",
    "        return \"Area of Triangle is: {}\".format(round(((s*(s-a)*(s-b)*(s-c))*(0.5)),2))\n",
    "Area = Child_class.Area_of_triangle()\n",
    "print(Area)"
   ]
  },
  {
   "cell_type": "markdown",
   "metadata": {},
   "source": [
    "##### 1.2 Write a function filter_long_words() that takes a list of words and an integer n and returns the list of words that are longer than n. "
   ]
  },
  {
   "cell_type": "code",
   "execution_count": 63,
   "metadata": {},
   "outputs": [
    {
     "data": {
      "text/plain": [
       "['dddd', '1111111']"
      ]
     },
     "execution_count": 63,
     "metadata": {},
     "output_type": "execute_result"
    }
   ],
   "source": [
    "def filter_long_words(inp_list:list,n):\n",
    "    result_list = []\n",
    "    for i in range(len(inp_list)):\n",
    "        if(len(inp_list[i])>n):\n",
    "            result_list.append(inp_list[i])\n",
    "    return result_list\n",
    "filter_long_words([\"abc\",\"dddd\",\"1111111\"],3)"
   ]
  },
  {
   "cell_type": "markdown",
   "metadata": {},
   "source": [
    "##### 2.1 Write a Python program using function concept that maps list of words into a list of integers representing the lengths of the corresponding words.\n",
    "##### Hint: If a list [ ab,cde,erty] is passed on to the python function output should come as [2,3,4] Here 2,3 and 4 are the lengths of the words in the list. "
   ]
  },
  {
   "cell_type": "code",
   "execution_count": 66,
   "metadata": {},
   "outputs": [
    {
     "data": {
      "text/plain": [
       "[3, 4, 7]"
      ]
     },
     "execution_count": 66,
     "metadata": {},
     "output_type": "execute_result"
    }
   ],
   "source": [
    "def words_length(inp_list:list):\n",
    "    result_list = []\n",
    "    for i in range(len(inp_list)):\n",
    "        result_list.append(len(inp_list[i]))\n",
    "    return result_list\n",
    "words_length([\"abc\",\"dddd\",\"1111111\"])"
   ]
  },
  {
   "cell_type": "markdown",
   "metadata": {},
   "source": [
    "##### 2.2 Write a Python function which takes a character (i.e. a string of length 1) and returns True if it is a vowel, False otherwise. "
   ]
  },
  {
   "cell_type": "code",
   "execution_count": 76,
   "metadata": {},
   "outputs": [
    {
     "data": {
      "text/plain": [
       "True"
      ]
     },
     "execution_count": 76,
     "metadata": {},
     "output_type": "execute_result"
    }
   ],
   "source": [
    "def check_vowel(inp_char):\n",
    "    if (len(inp_char)==1 and inp_char.lower() in ['a','e','i','o','u']):\n",
    "        return True\n",
    "    return False\n",
    "check_vowel('I')"
   ]
  }
 ],
 "metadata": {
  "kernelspec": {
   "display_name": "Python 3",
   "language": "python",
   "name": "python3"
  },
  "language_info": {
   "codemirror_mode": {
    "name": "ipython",
    "version": 3
   },
   "file_extension": ".py",
   "mimetype": "text/x-python",
   "name": "python",
   "nbconvert_exporter": "python",
   "pygments_lexer": "ipython3",
   "version": "3.7.6"
  }
 },
 "nbformat": 4,
 "nbformat_minor": 4
}
